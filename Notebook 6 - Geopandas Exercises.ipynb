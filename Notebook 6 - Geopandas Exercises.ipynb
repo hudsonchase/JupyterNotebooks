{
 "cells": [
  {
   "cell_type": "markdown",
   "metadata": {},
   "source": [
    "In this notebook, you'll demonstrate your understanding of the Pandas and Geopandas packages we've discussed in class by working\n",
    "through some of your own data (or some provided to you).  You're welcome (and expected) to use internet resources (especially the Pandas and Geopandas documentation) as well as lecture and sample notebooks provided in class, particularly these two:\n",
    "    \n",
    "<UL>\n",
    "<LI><a href=\"https://github.com/thomaspingel/geography_single_shot_notebooks/blob/master/Intro_to_Geopandas.ipynb\">Intro to Geopandas</a></li>\n",
    "    <li><a href=\"https://github.com/thomaspingel/geography_single_shot_notebooks/blob/master/Group%20Differences%20using%20Geopandas%2C%20Pandas%2C%20and%20Scipy.stats.ipynb\">Grounp Differences using Geopandas and SciPy Stats</a></li>\n",
    "</ul>\n",
    "\n",
    "You may work together, but may not directly copy code.  Work together to understand what's going on if you run into problems.  Ask a friend or a neighbor before asking the TA.  By working through problems together, you'll both bolster your understanding of this kind of scripting work."
   ]
  },
  {
   "cell_type": "code",
   "execution_count": null,
   "metadata": {},
   "outputs": [],
   "source": [
    "# 1. Import the following: numpy as np, pandas as pd, geopandas, seaborn as sns, matplotlib.pyplot as plt, from scipy import stats\n",
    "\n",
    "import numpy as np\n",
    "import pandas as pd\n",
    "import geopandas\n",
    "import seaborn as sns\n",
    "import matplotlib.pyplot as plt\n",
    "from scipy import stats"
   ]
  },
  {
   "cell_type": "code",
   "execution_count": null,
   "metadata": {},
   "outputs": [],
   "source": [
    "#2. Using geopandas, load the geojson file at \n",
    "# https://raw.githubusercontent.com/thomaspingel/geodata/master/chr_2019.geojson\n",
    "# OR data of your own choosing and store it as a variable called \"df\""
   ]
  },
  {
   "cell_type": "code",
   "execution_count": null,
   "metadata": {},
   "outputs": [],
   "source": [
    "#3. Using the geopandas plot function, visualize the geometry/spatial data/map"
   ]
  },
  {
   "cell_type": "code",
   "execution_count": null,
   "metadata": {},
   "outputs": [],
   "source": [
    "#4. Plot again, but this time save the figure to \"notebook1.png\" at 300 dpi"
   ]
  },
  {
   "cell_type": "code",
   "execution_count": null,
   "metadata": {},
   "outputs": [],
   "source": [
    "#5. Print the column values for your dataframe"
   ]
  },
  {
   "cell_type": "code",
   "execution_count": null,
   "metadata": {},
   "outputs": [],
   "source": [
    "#6-10. Plot 5 choropleth maps using the geopandas plot function and columns of your choosing.  \n",
    "# Make sure each plot has a title corresponding to the variable you're using"
   ]
  },
  {
   "cell_type": "code",
   "execution_count": null,
   "metadata": {},
   "outputs": [],
   "source": [
    "#11-15. Use Seaborn, Matplotplib, or Pandas plotting functions to create statistical plots of your data.  You can make \n",
    "# scatterplots, bar charts, violin plots, etc."
   ]
  },
  {
   "cell_type": "code",
   "execution_count": null,
   "metadata": {},
   "outputs": [],
   "source": [
    "#16-20. Use grouping variables (e.g., region, division) to group your data, and then calculate summary statistics \n",
    "# (e.g., mean, std, percentile) on them."
   ]
  }
 ],
 "metadata": {
  "kernelspec": {
   "display_name": "Python 3",
   "language": "python",
   "name": "python3"
  },
  "language_info": {
   "codemirror_mode": {
    "name": "ipython",
    "version": 3
   },
   "file_extension": ".py",
   "mimetype": "text/x-python",
   "name": "python",
   "nbconvert_exporter": "python",
   "pygments_lexer": "ipython3",
   "version": "3.6.6"
  }
 },
 "nbformat": 4,
 "nbformat_minor": 2
}
